{
 "cells": [
  {
   "cell_type": "code",
   "execution_count": 4,
   "id": "2c4065ba-9105-4dc0-8e84-96147341aa95",
   "metadata": {},
   "outputs": [
    {
     "name": "stdout",
     "output_type": "stream",
     "text": [
      "          0\n",
      "0       NaN\n",
      "1       NaN\n",
      "2       NaN\n",
      "3       NaN\n",
      "4       NaN\n",
      "5  0.144000\n",
      "6  0.087646\n",
      "7  0.223464\n",
      "8  0.198029\n",
      "9  0.051822\n"
     ]
    }
   ],
   "source": [
    "import pandas as pd\n",
    "stock_abc = pd.DataFrame([11.25, 11.98, 10.74, 11.16, 12.35, 12.87, 13.03, 13.14, 13.37, 12.99])\n",
    "\n",
    "weekly_return = (stock_abc - stock_abc.shift(5))/stock_abc.shift(5)\n",
    "\n",
    "print(weekly_return)\n"
   ]
  },
  {
   "cell_type": "code",
   "execution_count": 5,
   "id": "0c24bb9f-9fa3-4e17-9d23-900de1d43634",
   "metadata": {},
   "outputs": [
    {
     "name": "stdout",
     "output_type": "stream",
     "text": [
      "          0\n",
      "0       NaN\n",
      "1       NaN\n",
      "2       NaN\n",
      "3       NaN\n",
      "4       NaN\n",
      "5  0.144000\n",
      "6  0.087646\n",
      "7  0.223464\n",
      "8  0.198029\n",
      "9  0.051822\n"
     ]
    }
   ],
   "source": [
    "weekly_return_pct_change = stock_abc.pct_change(5)\n",
    "print(weekly_return_pct_change)\n"
   ]
  },
  {
   "cell_type": "code",
   "execution_count": 8,
   "id": "bf865998-b4c8-4255-bd2e-5174a3683c30",
   "metadata": {},
   "outputs": [
    {
     "name": "stdout",
     "output_type": "stream",
     "text": [
      "          0\n",
      "0       NaN\n",
      "1  0.064889\n",
      "2 -0.103506\n",
      "3  0.039106\n",
      "4  0.106631\n",
      "5  0.042105\n",
      "6  0.012432\n",
      "7  0.008442\n",
      "8  0.017504\n",
      "9 -0.028422\n",
      "          0\n",
      "0       NaN\n",
      "1  0.064889\n",
      "2 -0.103506\n",
      "3  0.039106\n",
      "4  0.106631\n",
      "5  0.042105\n",
      "6  0.012432\n",
      "7  0.008442\n",
      "8  0.017504\n",
      "9 -0.028422\n",
      "          0\n",
      "0       NaN\n",
      "1  1.064889\n",
      "2  0.954667\n",
      "3  0.992000\n",
      "4  1.097778\n",
      "5  1.144000\n",
      "6  1.158222\n",
      "7  1.168000\n",
      "8  1.188444\n",
      "9  1.154667\n"
     ]
    }
   ],
   "source": [
    "daily_return = (stock_abc - stock_abc.shift(1))/stock_abc.shift(1)\n",
    "daily_return1 = stock_abc.pct_change(1)\n",
    "cumulative_return = (1+daily_return1).cumprod()\n",
    "print(daily_return)\n",
    "print(daily_return1)\n",
    "print(cumulative_return)\n"
   ]
  },
  {
   "cell_type": "code",
   "execution_count": 9,
   "id": "00f75ac6-3c8e-4f41-8345-aa5cffb11eaa",
   "metadata": {},
   "outputs": [
    {
     "data": {
      "text/plain": [
       "<AxesSubplot:title={'center':'S&P 500 Cumulative Returns'}>"
      ]
     },
     "execution_count": 9,
     "metadata": {},
     "output_type": "execute_result"
    },
    {
     "data": {
      "image/png": "[encoded data removed]",
      "text/plain": [
       "<Figure size 720x360 with 1 Axes>"
      ]
     },
     "metadata": {
      "needs_background": "light"
     },
     "output_type": "display_data"
    }
   ],
   "source": [
    "cumulative_return.plot(figsize=(10,5),title='S&P 500 Cumulative Returns')"
   ]
  },
  {
   "cell_type": "code",
   "execution_count": null,
   "id": "aa6e3490-9e9c-48c1-b249-91e66a37fbca",
   "metadata": {},
   "outputs": [],
   "source": []
  },
  {
   "cell_type": "code",
   "execution_count": null,
   "id": "b7507986-3ed8-42e4-a7eb-e980265cbba6",
   "metadata": {},
   "outputs": [],
   "source": []
  },
  {
   "cell_type": "code",
   "execution_count": null,
   "id": "9c78f012-69f3-442e-97a2-e63996ce8529",
   "metadata": {},
   "outputs": [],
   "source": []
  },
  {
   "cell_type": "code",
   "execution_count": null,
   "id": "85ff9e3b-0f9e-418c-abe1-85f47b95cf4b",
   "metadata": {},
   "outputs": [],
   "source": []
  },
  {
   "cell_type": "code",
   "execution_count": null,
   "id": "ef1e787e-2eca-4934-bec3-5de1922ca706",
   "metadata": {},
   "outputs": [],
   "source": []
  },
  {
   "cell_type": "code",
   "execution_count": null,
   "id": "28a5f66d-7f2e-432c-acf4-c61f9677f84b",
   "metadata": {},
   "outputs": [],
   "source": []
  }
 ],
 "metadata": {
  "kernelspec": {
   "display_name": "Python 3",
   "language": "python",
   "name": "python3"
  },
  "language_info": {
   "codemirror_mode": {
    "name": "ipython",
    "version": 3
   },
   "file_extension": ".py",
   "mimetype": "text/x-python",
   "name": "python",
   "nbconvert_exporter": "python",
   "pygments_lexer": "ipython3",
   "version": "3.7.10"
  }
 },
 "nbformat": 4,
 "nbformat_minor": 5
}
